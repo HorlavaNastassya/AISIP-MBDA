{
 "cells": [
  {
   "cell_type": "code",
   "execution_count": 13,
   "metadata": {
    "tags": []
   },
   "outputs": [],
   "source": [
    "import argparse\n",
    "import json\n",
    "import pickle\n",
    "import pandas as pd\n",
    "from nilearn.datasets import fetch_neurovault\n",
    "import json\n",
    "import os"
   ]
  },
  {
   "cell_type": "code",
   "execution_count": 21,
   "metadata": {
    "collapsed": false,
    "jupyter": {
     "outputs_hidden": false
    },
    "pycharm": {
     "name": "#%%\n"
    }
   },
   "outputs": [],
   "source": [
    "#adapted from https://github.com/rmenuet/fmri_decoding/blob/master/Experiment/a1_collect.py\n",
    "\n",
    "# ================================\n",
    "# === FETCHING FROM NEUROVAULT ===\n",
    "# ================================\n",
    "def fetch_nv(repo, nv_file,\n",
    "             download=False,\n",
    "             max_images=None):\n",
    "    \"\"\"\n",
    "    Loads neurovault into memory, either downloading it from the web-API or\n",
    "    loading it from the disk.\n",
    "    :param repo: str\n",
    "        Path where the data is downloaded.\n",
    "    :param nv_file: str\n",
    "        Pickle file where the full data is saved\n",
    "        (for faster loading than the fetch_neurovault).\n",
    "    :param download: bool, default=False\n",
    "        If True: the data is downloaded from the web-API.\n",
    "    :param verbose: bool, default=False\n",
    "        Activate verbose mode.\n",
    "    :param max_images: int, default=None\n",
    "        Number of images to load from neurovalt.\n",
    "    :return: Bunch\n",
    "        A dict-like object containing the data from fMRIs fetched from\n",
    "        Neurovault.\n",
    "    \"\"\"\n",
    "\n",
    "    # Download and save to disk or load from disk\n",
    "\n",
    "    if download:\n",
    "\n",
    "        print(\"...Download from Neurovault API...\")\n",
    "        os.makedirs(repo, exist_ok=True)\n",
    "        os.makedirs(nv_filepath, exist_ok=True)\n",
    "        nv_file=os.path.join(nv_filepath, \"nv_meta.p\")\n",
    "        \n",
    "        neurovault = fetch_neurovault(max_images=max_images,\n",
    "                                      collection_terms={},\n",
    "                                      image_terms={},\n",
    "                                      data_dir=repo,\n",
    "                                      mode=\"download_new\",\n",
    "                                      verbose=2,\n",
    "                                      collection_id= 4337)\n",
    "        \n",
    "        with open(nv_file, 'wb') as f:\n",
    "            pickle.dump(neurovault, f)\n",
    "    else:\n",
    "       \n",
    "        print(\"...Load pre-fetched data from Neurovault...\")\n",
    "        with open(nv_file, 'rb') as f:\n",
    "            neurovault = pickle.load(f)\n",
    "\n",
    "    n_fmri_dl = len(neurovault.images)\n",
    "    if verbose:\n",
    "        print(\"  > Number of (down)loaded fmri =\", n_fmri_dl)\n",
    "\n",
    "    return neurovault"
   ]
  },
  {
   "cell_type": "code",
   "execution_count": null,
   "metadata": {},
   "outputs": [
    {
     "name": "stdout",
     "output_type": "stream",
     "text": [
      "...Download from Neurovault API...\n",
      "\n",
      "Dataset created in ../../Data/neurovault/neurovault\n",
      "\n",
      "No image found on local disk.\n",
      "Already fetched 1 image\n",
      "Already fetched 2 images\n",
      "Already fetched 3 images\n",
      "Already fetched 4 images\n",
      "Already fetched 5 images\n",
      "Already fetched 6 images\n",
      "Already fetched 7 images\n",
      "Already fetched 8 images\n",
      "Already fetched 9 images\n",
      "Already fetched 10 images\n",
      "Already fetched 11 images\n"
     ]
    }
   ],
   "source": [
    "nv_path= \"../../Data/neurovault/\"\n",
    "nv_filepath = \"../../cache/\"\n",
    "download=True\n",
    "fetch_nv(nv_path, nv_filepath , download)\n"
   ]
  },
  {
   "cell_type": "code",
   "execution_count": null,
   "metadata": {},
   "outputs": [],
   "source": []
  }
 ],
 "metadata": {
  "kernelspec": {
   "display_name": "Python 3",
   "language": "python",
   "name": "python3"
  },
  "language_info": {
   "codemirror_mode": {
    "name": "ipython",
    "version": 3
   },
   "file_extension": ".py",
   "mimetype": "text/x-python",
   "name": "python",
   "nbconvert_exporter": "python",
   "pygments_lexer": "ipython3",
   "version": "3.9.12"
  }
 },
 "nbformat": 4,
 "nbformat_minor": 4
}
