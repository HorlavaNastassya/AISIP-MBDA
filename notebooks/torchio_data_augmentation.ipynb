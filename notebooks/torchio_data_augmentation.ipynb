{
 "cells": [
  {
   "cell_type": "code",
   "execution_count": 3,
   "metadata": {},
   "outputs": [],
   "source": [
    "import torch\n",
    "import torchio as tio\n",
    "from torch.utils.data import DataLoader\n",
    "\n",
    "import os"
   ]
  },
  {
   "cell_type": "code",
   "execution_count": 16,
   "metadata": {},
   "outputs": [
    {
     "ename": "ModuleNotFoundError",
     "evalue": "No module named 'utils'",
     "output_type": "error",
     "traceback": [
      "\u001B[0;31m---------------------------------------------------------------------------\u001B[0m",
      "\u001B[0;31mModuleNotFoundError\u001B[0m                       Traceback (most recent call last)",
      "\u001B[1;32m/Users/tivogatto/AISIP-MBDA/notebooks/torchio_data_augmentation.ipynb Cell 2'\u001B[0m in \u001B[0;36m<cell line: 2>\u001B[0;34m()\u001B[0m\n\u001B[1;32m      <a href='vscode-notebook-cell:/Users/tivogatto/AISIP-MBDA/notebooks/torchio_data_augmentation.ipynb#ch0000003?line=0'>1</a>\u001B[0m \u001B[39m# Get the DiFuMo projector.\u001B[39;00m\n\u001B[0;32m----> <a href='vscode-notebook-cell:/Users/tivogatto/AISIP-MBDA/notebooks/torchio_data_augmentation.ipynb#ch0000003?line=1'>2</a>\u001B[0m \u001B[39mfrom\u001B[39;00m \u001B[39mutils\u001B[39;00m \u001B[39mimport\u001B[39;00m fetching, difumo_utils\n\u001B[1;32m      <a href='vscode-notebook-cell:/Users/tivogatto/AISIP-MBDA/notebooks/torchio_data_augmentation.ipynb#ch0000003?line=3'>4</a>\u001B[0m \u001B[39m# Number of images to fetch\u001B[39;00m\n\u001B[1;32m      <a href='vscode-notebook-cell:/Users/tivogatto/AISIP-MBDA/notebooks/torchio_data_augmentation.ipynb#ch0000003?line=4'>5</a>\u001B[0m max_images \u001B[39m=\u001B[39m \u001B[39m10\u001B[39m\n",
      "\u001B[0;31mModuleNotFoundError\u001B[0m: No module named 'utils'"
     ]
    }
   ],
   "source": [
    "# Get the DiFuMo projector.\n",
    "from ai4sipmbda.utils import fetching, difumo_utils\n",
    "\n",
    "# Number of images to fetch\n",
    "max_images = 10\n",
    "\n",
    "# Fetching...\n",
    "neurovault = fetching.fetch_nv(max_images = max_images)"
   ]
  },
  {
   "cell_type": "code",
   "execution_count": 4,
   "metadata": {},
   "outputs": [],
   "source": [
    "BASE_PATH = '../../Data/neurovault/neurovault/collection_4337/'\n",
    "\n",
    "IMAGE_PATH = os.path.join(BASE_PATH, 'image_69118.nii.gz')"
   ]
  },
  {
   "cell_type": "code",
   "execution_count": 11,
   "metadata": {},
   "outputs": [
    {
     "name": "stdout",
     "output_type": "stream",
     "text": [
      "Starting shape: (1, 91, 109, 91)\n",
      "Final shape: (1, 91, 109, 91)\n"
     ]
    }
   ],
   "source": [
    "# Each instance of tio.Subject is passed arbitrary keyword arguments.\n",
    "# Typically, these arguments will be instances of tio.Image\n",
    "x = tio.ScalarImage(IMAGE_PATH)\n",
    "\n",
    "# Settings for transformations\n",
    "probs = (0.5, 0.5) # Probabilities of sampling a specific transformation\n",
    "n_spikes = 5 # Required for RandomSpike\n",
    "\n",
    "flips = tio.transforms.RandomFlip()\n",
    "spikes = tio.transforms.RandomSpike(n_spikes)\n",
    "\n",
    "# Transform the image\n",
    "one_of_transform = tio.transforms.OneOf({\n",
    "    flips: probs[0],\n",
    "    spikes: probs[1]\n",
    "})\n",
    "\n",
    "x_trans = one_of_transform(x)\n",
    "\n",
    "print(f\"Starting shape: {x.shape}\")\n",
    "print(f\"Final shape: {x_trans.shape}\")"
   ]
  }
 ],
 "metadata": {
  "kernelspec": {
   "display_name": "Python 3.8.13 ('AISIP')",
   "language": "python",
   "name": "python3"
  },
  "language_info": {
   "codemirror_mode": {
    "name": "ipython",
    "version": 3
   },
   "file_extension": ".py",
   "mimetype": "text/x-python",
   "name": "python",
   "nbconvert_exporter": "python",
   "pygments_lexer": "ipython3",
   "version": "3.8.13"
  },
  "orig_nbformat": 4,
  "vscode": {
   "interpreter": {
    "hash": "3b6bbffee1c5cdad485cbeeaf0cad0e136c107010c3893947db4c19328c81cf1"
   }
  }
 },
 "nbformat": 4,
 "nbformat_minor": 2
}