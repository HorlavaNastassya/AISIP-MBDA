{
 "cells": [
  {
   "cell_type": "code",
   "execution_count": null,
   "metadata": {},
   "outputs": [],
   "source": [
    "import torch\n",
    "import torchio as tio\n",
    "from torch.utils.data import DataLoader\n",
    "\n",
    "import os"
   ]
  },
  {
   "cell_type": "code",
   "execution_count": null,
   "metadata": {},
   "outputs": [],
   "source": [
    "# Get the DiFuMo projector.\n",
    "from ai4sipmbda.utils import fetching, difumo_utils\n",
    "\n",
    "# Number of images to fetch\n",
    "max_images = 10\n",
    "\n",
    "# Fetching...\n",
    "neurovault = fetching.fetch_nv(max_images = max_images)\n",
    "\n",
    "# Get DiFuMo map\n",
    "dimension = 1024\n",
    "difumo_map = difumo_utils.get_DiFuMo_map(dimension)\n",
    "\n",
    "# Get mask\n",
    "maps_data, mask = difumo_utils.get_mask(neurovault, difumo_map, save=False)\n",
    "\n",
    "# Compute projector\n",
    "Z = difumo_utils.get_projector_from_mask(maps_data, mask, save=False)"
   ]
  },
  {
   "cell_type": "code",
   "execution_count": null,
   "metadata": {},
   "outputs": [],
   "source": [
    "BASE_PATH = '../../Data/neurovault/neurovault/collection_4337/'\n",
    "\n",
    "IMAGE_PATH = os.path.join(BASE_PATH, 'image_69118.nii.gz')"
   ]
  },
  {
   "cell_type": "code",
   "execution_count": null,
   "metadata": {},
   "outputs": [],
   "source": [
    "# Each instance of tio.Subject is passed arbitrary keyword arguments.\n",
    "# Typically, these arguments will be instances of tio.Image\n",
    "x = tio.ScalarImage(IMAGE_PATH)\n",
    "\n",
    "# Settings for transformations\n",
    "probs = (0.5, 0.5) # Probabilities of sampling a specific transformation\n",
    "n_spikes = 5 # Required for RandomSpike\n",
    "\n",
    "flips = tio.transforms.RandomFlip()\n",
    "spikes = tio.transforms.RandomSpike(n_spikes)\n",
    "\n",
    "# Transform the image\n",
    "one_of_transform = tio.transforms.OneOf({\n",
    "    flips: probs[0],\n",
    "    spikes: probs[1]\n",
    "})\n",
    "\n",
    "x_trans = one_of_transform(x)\n",
    "\n",
    "print(f\"Starting shape: {x.shape}\")\n",
    "print(f\"Final shape: {x_trans.shape}\")"
   ]
  }
 ],
 "metadata": {
  "kernelspec": {
   "display_name": "Python 3.8.13 ('AISIP')",
   "language": "python",
   "name": "python3"
  },
  "language_info": {
   "codemirror_mode": {
    "name": "ipython",
    "version": 3
   },
   "file_extension": ".py",
   "mimetype": "text/x-python",
   "name": "python",
   "nbconvert_exporter": "python",
   "pygments_lexer": "ipython3",
   "version": "3.8.13"
  },
  "orig_nbformat": 4,
  "vscode": {
   "interpreter": {
    "hash": "3b6bbffee1c5cdad485cbeeaf0cad0e136c107010c3893947db4c19328c81cf1"
   }
  }
 },
 "nbformat": 4,
 "nbformat_minor": 2
}
